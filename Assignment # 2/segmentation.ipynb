{
  "nbformat": 4,
  "nbformat_minor": 0,
  "metadata": {
    "colab": {
      "name": "segmentation",
      "version": "0.3.2",
      "views": {},
      "default_view": {},
      "provenance": []
    },
    "kernelspec": {
      "name": "python3",
      "display_name": "Python 3"
    }
  },
  "cells": [
    {
      "metadata": {
        "id": "LA5AmuMYJ-P4",
        "colab_type": "code",
        "colab": {
          "autoexec": {
            "startup": false,
            "wait_interval": 0
          }
        }
      },
      "cell_type": "code",
      "source": [
        "!pip install -U -q PyDrive\n",
        "\n",
        "from pydrive.auth import GoogleAuth\n",
        "from pydrive.drive import GoogleDrive\n",
        "from google.colab import auth\n",
        "from oauth2client.client import GoogleCredentials\n",
        "\n",
        "# 1. Authenticate and create the PyDrive client.\n",
        "auth.authenticate_user()\n",
        "gauth = GoogleAuth()\n",
        "gauth.credentials = GoogleCredentials.get_application_default()\n",
        "drive = GoogleDrive(gauth)\n",
        "\n",
        "# PyDrive reference:\n",
        "# https://googledrive.github.io/PyDrive/docs/build/html/index.html\n",
        "\n",
        "\n",
        "# 2. Load a file by ID\n",
        "json_import = drive.CreateFile({'id':'<file_id>'})\n",
        "json_import.GetContentFile('total_images.npy')\n"
      ],
      "execution_count": 0,
      "outputs": []
    },
    {
      "metadata": {
        "id": "gEPO2poDUXuq",
        "colab_type": "code",
        "colab": {
          "autoexec": {
            "startup": false,
            "wait_interval": 0
          },
          "base_uri": "https://localhost:8080/",
          "height": 34
        },
        "outputId": "a0ad2d48-ea3a-4c98-a0c7-1760dc7f2c40",
        "executionInfo": {
          "status": "ok",
          "timestamp": 1523473780987,
          "user_tz": -330,
          "elapsed": 1914,
          "user": {
            "displayName": "Khursheed Ali",
            "photoUrl": "//lh4.googleusercontent.com/-hA_6u-kNico/AAAAAAAAAAI/AAAAAAAAAyY/XwoYAX-nbos/s50-c-k-no/photo.jpg",
            "userId": "116419054524050524615"
          }
        }
      },
      "cell_type": "code",
      "source": [
        "!ls"
      ],
      "execution_count": 2,
      "outputs": [
        {
          "output_type": "stream",
          "text": [
            "datalab  ground_truth_resized.npy\r\n"
          ],
          "name": "stdout"
        }
      ]
    },
    {
      "metadata": {
        "id": "8Z7gdGM3Z39z",
        "colab_type": "code",
        "colab": {
          "autoexec": {
            "startup": false,
            "wait_interval": 0
          },
          "base_uri": "https://localhost:8080/",
          "height": 34
        },
        "outputId": "5898a96d-8aab-4d07-d6f2-b409665d0aaf",
        "executionInfo": {
          "status": "ok",
          "timestamp": 1523473787914,
          "user_tz": -330,
          "elapsed": 6912,
          "user": {
            "displayName": "Khursheed Ali",
            "photoUrl": "//lh4.googleusercontent.com/-hA_6u-kNico/AAAAAAAAAAI/AAAAAAAAAyY/XwoYAX-nbos/s50-c-k-no/photo.jpg",
            "userId": "116419054524050524615"
          }
        }
      },
      "cell_type": "code",
      "source": [
        "import keras\n",
        "from keras.layers import Activation\n",
        "from keras.layers import Conv2D, MaxPooling2D\n",
        "from keras.models import Model\n",
        "from keras.layers import Input\n",
        "from keras.layers import BatchNormalization\n",
        "from keras.layers import UpSampling2D\n",
        "from keras.layers import Concatenate\n",
        "from keras.layers import Lambda \n",
        "from keras.utils import to_categorical\n",
        "import tensorflow as tf\n",
        "from keras.layers import Add \n",
        "\n",
        "from keras.layers import Reshape\n",
        "\n",
        "from keras import backend as K\n",
        "from keras import regularizers, optimizers\n",
        "%matplotlib inline"
      ],
      "execution_count": 3,
      "outputs": [
        {
          "output_type": "stream",
          "text": [
            "Using TensorFlow backend.\n"
          ],
          "name": "stderr"
        }
      ]
    },
    {
      "metadata": {
        "id": "alJWThBIaFBJ",
        "colab_type": "code",
        "colab": {
          "autoexec": {
            "startup": false,
            "wait_interval": 0
          }
        }
      },
      "cell_type": "code",
      "source": [
        "import scipy.io as scio\n",
        "import numpy as np    \n",
        "import os\n",
        "import matplotlib.pyplot as plt\n",
        "import math\n",
        "import re\n",
        "from scipy.misc import imsave\n",
        "from scipy import ndimage, misc\n",
        "from numpy import unravel_index\n",
        "from operator import sub\n",
        "from keras.callbacks import ReduceLROnPlateau, CSVLogger,EarlyStopping,ModelCheckpoint"
      ],
      "execution_count": 0,
      "outputs": []
    },
    {
      "metadata": {
        "id": "y5QsiOz_aHai",
        "colab_type": "code",
        "colab": {
          "autoexec": {
            "startup": false,
            "wait_interval": 0
          }
        }
      },
      "cell_type": "code",
      "source": [
        "# Load the data\n",
        "x = np.load('total_images.npy')\n",
        "y = np.load('ground_truth_resized.npy')"
      ],
      "execution_count": 0,
      "outputs": []
    },
    {
      "metadata": {
        "id": "p6MrYEzZaOzo",
        "colab_type": "code",
        "colab": {
          "autoexec": {
            "startup": false,
            "wait_interval": 0
          },
          "base_uri": "https://localhost:8080/",
          "height": 71
        },
        "outputId": "3dc76e56-a78c-41a3-a1d5-6cc8f4e5f0c0",
        "executionInfo": {
          "status": "ok",
          "timestamp": 1523473890803,
          "user_tz": -330,
          "elapsed": 732,
          "user": {
            "displayName": "Khursheed Ali",
            "photoUrl": "//lh4.googleusercontent.com/-hA_6u-kNico/AAAAAAAAAAI/AAAAAAAAAyY/XwoYAX-nbos/s50-c-k-no/photo.jpg",
            "userId": "116419054524050524615"
          }
        }
      },
      "cell_type": "code",
      "source": [
        "# Get training indices\n",
        "train_indices = np.random.choice(2000,1500,replace = False)\n",
        "print(sorted(train_indices))\n",
        "x_train_images = []\n",
        "y_train_labels = [] \n",
        "for i in train_indices:\n",
        "    x_train_images.append(x[i])\n",
        "    y_train_labels.append(y[i])\n",
        "\n",
        "test_indices = [xy for xy in range(2000) if xy not in train_indices]\n",
        "print(test_indices)\n",
        "x_test_images = []\n",
        "y_test_labels = []\n",
        "\n",
        "for i in test_indices:\n",
        "    x_test_images.append(x[i])\n",
        "    y_test_labels.append(y[i])"
      ],
      "execution_count": 8,
      "outputs": [
        {
          "output_type": "stream",
          "text": [
            "[0, 1, 2, 3, 4, 5, 6, 7, 8, 9, 10, 11, 13, 14, 15, 16, 17, 18, 20, 21, 22, 23, 25, 26, 27, 28, 29, 30, 32, 33, 35, 36, 37, 39, 41, 42, 44, 46, 48, 49, 50, 51, 54, 56, 57, 59, 62, 63, 64, 65, 66, 70, 71, 73, 74, 76, 77, 78, 79, 80, 81, 82, 83, 84, 85, 86, 87, 88, 89, 90, 91, 92, 94, 95, 96, 97, 98, 99, 100, 101, 102, 103, 104, 105, 106, 107, 109, 110, 111, 112, 113, 114, 115, 116, 117, 119, 120, 122, 124, 126, 127, 128, 130, 131, 132, 134, 135, 136, 137, 138, 139, 140, 141, 142, 143, 144, 145, 146, 147, 150, 151, 152, 154, 155, 156, 157, 158, 159, 160, 161, 163, 165, 166, 167, 168, 169, 170, 171, 172, 173, 174, 175, 176, 177, 178, 179, 180, 181, 182, 183, 184, 186, 187, 189, 190, 191, 192, 193, 195, 197, 198, 199, 200, 201, 202, 203, 206, 207, 208, 209, 211, 212, 213, 215, 216, 218, 219, 220, 221, 222, 223, 225, 227, 229, 230, 233, 237, 239, 242, 243, 244, 245, 246, 247, 248, 249, 253, 254, 256, 258, 259, 260, 263, 264, 265, 266, 268, 270, 271, 272, 273, 274, 276, 277, 278, 279, 280, 281, 282, 284, 286, 287, 288, 291, 292, 293, 295, 296, 297, 298, 299, 300, 301, 302, 305, 306, 307, 309, 310, 311, 312, 313, 314, 315, 316, 317, 318, 319, 320, 321, 322, 323, 324, 325, 326, 327, 328, 329, 330, 333, 335, 336, 337, 339, 340, 341, 343, 344, 345, 346, 347, 348, 349, 350, 351, 354, 355, 356, 357, 358, 360, 361, 362, 363, 364, 365, 368, 369, 370, 372, 376, 377, 378, 379, 380, 381, 382, 383, 384, 385, 386, 387, 388, 389, 390, 391, 392, 393, 394, 396, 397, 398, 399, 401, 405, 408, 410, 411, 412, 413, 415, 416, 417, 418, 419, 420, 421, 422, 424, 425, 426, 428, 429, 430, 431, 432, 435, 436, 437, 438, 440, 442, 443, 444, 445, 446, 447, 448, 449, 450, 453, 454, 455, 456, 459, 460, 461, 462, 463, 464, 465, 468, 469, 471, 474, 475, 476, 477, 478, 479, 480, 481, 482, 484, 485, 486, 487, 489, 490, 491, 492, 493, 494, 495, 496, 497, 498, 499, 501, 502, 504, 507, 509, 510, 511, 512, 514, 515, 516, 518, 520, 521, 522, 523, 527, 529, 532, 533, 534, 538, 540, 541, 546, 547, 550, 551, 552, 554, 555, 557, 559, 560, 561, 562, 563, 568, 569, 571, 572, 573, 574, 575, 576, 577, 578, 579, 580, 581, 582, 583, 584, 585, 586, 588, 589, 590, 591, 592, 594, 597, 599, 600, 601, 602, 603, 605, 606, 608, 610, 612, 613, 614, 615, 616, 619, 622, 623, 624, 625, 628, 632, 634, 635, 637, 638, 639, 640, 641, 642, 643, 644, 645, 647, 648, 649, 650, 652, 654, 655, 656, 657, 658, 659, 660, 661, 662, 663, 664, 665, 667, 668, 671, 672, 673, 674, 675, 678, 680, 681, 682, 683, 684, 685, 686, 687, 688, 690, 691, 692, 693, 694, 695, 696, 697, 698, 702, 707, 708, 710, 711, 713, 714, 715, 717, 718, 720, 721, 722, 723, 724, 727, 730, 732, 735, 736, 737, 738, 740, 741, 742, 743, 744, 746, 748, 749, 750, 751, 752, 753, 755, 756, 757, 758, 759, 761, 762, 765, 767, 769, 770, 772, 773, 774, 776, 777, 778, 779, 780, 781, 782, 783, 784, 785, 786, 787, 788, 791, 792, 793, 794, 795, 796, 797, 799, 802, 804, 807, 809, 810, 811, 813, 814, 815, 816, 817, 818, 819, 820, 821, 822, 823, 825, 827, 828, 829, 831, 832, 833, 834, 835, 836, 837, 838, 839, 840, 842, 843, 844, 845, 846, 847, 848, 850, 851, 852, 853, 854, 855, 856, 857, 858, 860, 861, 862, 863, 864, 866, 867, 868, 869, 870, 871, 872, 873, 874, 876, 877, 881, 882, 883, 885, 886, 888, 889, 890, 892, 893, 895, 896, 898, 900, 901, 903, 904, 905, 906, 908, 909, 910, 911, 913, 914, 915, 916, 917, 918, 919, 920, 923, 924, 925, 928, 929, 931, 932, 934, 935, 936, 937, 938, 939, 940, 942, 943, 944, 947, 948, 949, 950, 951, 953, 954, 955, 956, 957, 960, 961, 962, 963, 964, 965, 966, 967, 968, 969, 970, 972, 973, 974, 975, 977, 978, 979, 981, 982, 983, 984, 985, 987, 988, 989, 991, 992, 993, 994, 995, 996, 997, 1001, 1002, 1004, 1005, 1006, 1007, 1008, 1009, 1010, 1011, 1012, 1013, 1014, 1015, 1016, 1018, 1019, 1020, 1023, 1024, 1025, 1026, 1027, 1028, 1029, 1030, 1031, 1032, 1033, 1034, 1035, 1036, 1038, 1039, 1041, 1042, 1043, 1044, 1046, 1048, 1049, 1053, 1057, 1058, 1059, 1060, 1061, 1062, 1063, 1064, 1065, 1066, 1068, 1069, 1072, 1074, 1075, 1076, 1078, 1079, 1080, 1081, 1082, 1084, 1085, 1086, 1087, 1088, 1090, 1091, 1092, 1093, 1094, 1095, 1096, 1097, 1098, 1099, 1101, 1103, 1104, 1105, 1107, 1108, 1109, 1112, 1113, 1118, 1119, 1120, 1121, 1123, 1124, 1125, 1126, 1128, 1129, 1130, 1131, 1132, 1133, 1134, 1135, 1136, 1137, 1138, 1140, 1141, 1142, 1143, 1144, 1145, 1146, 1148, 1150, 1151, 1153, 1155, 1157, 1158, 1161, 1163, 1165, 1166, 1168, 1169, 1171, 1172, 1173, 1174, 1175, 1177, 1179, 1182, 1183, 1184, 1185, 1186, 1187, 1188, 1190, 1192, 1193, 1194, 1195, 1198, 1199, 1200, 1201, 1202, 1203, 1205, 1206, 1208, 1210, 1212, 1213, 1214, 1215, 1216, 1217, 1218, 1221, 1222, 1223, 1225, 1226, 1227, 1228, 1229, 1230, 1231, 1232, 1233, 1234, 1236, 1237, 1239, 1240, 1242, 1243, 1244, 1245, 1246, 1247, 1249, 1250, 1252, 1253, 1254, 1255, 1256, 1258, 1260, 1261, 1262, 1263, 1264, 1265, 1266, 1269, 1270, 1271, 1273, 1274, 1275, 1276, 1277, 1278, 1280, 1282, 1284, 1285, 1286, 1288, 1289, 1290, 1291, 1293, 1294, 1295, 1296, 1297, 1298, 1299, 1301, 1302, 1303, 1304, 1305, 1306, 1308, 1309, 1310, 1311, 1313, 1314, 1318, 1319, 1321, 1323, 1325, 1331, 1332, 1333, 1334, 1335, 1337, 1339, 1340, 1341, 1342, 1343, 1345, 1346, 1347, 1348, 1349, 1350, 1351, 1352, 1353, 1354, 1355, 1357, 1358, 1359, 1360, 1363, 1365, 1366, 1367, 1368, 1370, 1371, 1372, 1373, 1374, 1375, 1376, 1377, 1378, 1381, 1382, 1383, 1384, 1386, 1388, 1390, 1391, 1392, 1395, 1396, 1397, 1398, 1399, 1401, 1402, 1403, 1404, 1405, 1406, 1407, 1408, 1409, 1412, 1413, 1414, 1415, 1416, 1417, 1418, 1419, 1420, 1421, 1422, 1423, 1425, 1426, 1428, 1432, 1433, 1434, 1435, 1437, 1438, 1439, 1440, 1442, 1443, 1445, 1446, 1448, 1449, 1451, 1452, 1455, 1456, 1457, 1458, 1459, 1460, 1461, 1462, 1463, 1464, 1465, 1468, 1469, 1470, 1471, 1472, 1473, 1474, 1475, 1476, 1477, 1478, 1479, 1480, 1481, 1482, 1483, 1484, 1485, 1486, 1487, 1488, 1490, 1492, 1493, 1494, 1497, 1498, 1500, 1501, 1504, 1505, 1506, 1507, 1508, 1509, 1510, 1511, 1512, 1513, 1514, 1515, 1517, 1519, 1520, 1521, 1522, 1523, 1524, 1526, 1527, 1528, 1529, 1531, 1533, 1535, 1536, 1537, 1538, 1539, 1540, 1541, 1542, 1543, 1546, 1547, 1548, 1549, 1550, 1551, 1553, 1554, 1555, 1556, 1557, 1558, 1559, 1561, 1562, 1563, 1564, 1565, 1567, 1568, 1569, 1570, 1571, 1572, 1574, 1575, 1576, 1577, 1578, 1579, 1583, 1585, 1588, 1590, 1591, 1592, 1593, 1594, 1595, 1596, 1597, 1598, 1601, 1603, 1604, 1605, 1606, 1607, 1608, 1609, 1611, 1612, 1613, 1614, 1615, 1617, 1618, 1619, 1620, 1621, 1622, 1623, 1624, 1625, 1627, 1628, 1629, 1630, 1631, 1632, 1633, 1634, 1635, 1636, 1638, 1639, 1640, 1641, 1643, 1645, 1646, 1647, 1648, 1649, 1650, 1651, 1652, 1654, 1657, 1658, 1659, 1660, 1661, 1662, 1663, 1665, 1666, 1667, 1668, 1669, 1670, 1671, 1672, 1675, 1676, 1678, 1679, 1681, 1683, 1684, 1685, 1687, 1688, 1689, 1690, 1692, 1693, 1694, 1695, 1696, 1698, 1699, 1700, 1701, 1702, 1703, 1704, 1705, 1706, 1707, 1708, 1709, 1710, 1711, 1713, 1714, 1715, 1716, 1717, 1718, 1719, 1720, 1721, 1723, 1725, 1726, 1727, 1728, 1729, 1730, 1731, 1733, 1736, 1737, 1738, 1739, 1741, 1742, 1744, 1745, 1746, 1749, 1750, 1751, 1752, 1753, 1755, 1757, 1758, 1759, 1761, 1762, 1763, 1764, 1767, 1768, 1769, 1770, 1774, 1775, 1776, 1778, 1779, 1780, 1782, 1783, 1785, 1786, 1787, 1788, 1789, 1790, 1791, 1792, 1793, 1796, 1798, 1799, 1801, 1802, 1803, 1804, 1806, 1807, 1809, 1810, 1811, 1812, 1813, 1814, 1815, 1816, 1819, 1821, 1822, 1825, 1826, 1828, 1830, 1831, 1832, 1833, 1834, 1835, 1837, 1838, 1839, 1841, 1842, 1843, 1844, 1845, 1846, 1848, 1849, 1850, 1851, 1852, 1854, 1855, 1856, 1857, 1858, 1859, 1861, 1862, 1865, 1867, 1868, 1869, 1870, 1871, 1873, 1875, 1880, 1882, 1883, 1884, 1885, 1887, 1888, 1889, 1890, 1891, 1892, 1893, 1895, 1896, 1897, 1899, 1900, 1902, 1903, 1905, 1908, 1910, 1911, 1912, 1914, 1916, 1917, 1918, 1920, 1922, 1923, 1925, 1926, 1927, 1928, 1929, 1930, 1932, 1933, 1934, 1935, 1936, 1937, 1939, 1940, 1941, 1943, 1945, 1946, 1948, 1949, 1951, 1952, 1953, 1954, 1955, 1956, 1957, 1961, 1962, 1963, 1964, 1965, 1966, 1967, 1969, 1970, 1971, 1972, 1973, 1974, 1975, 1976, 1977, 1980, 1981, 1982, 1984, 1985, 1986, 1987, 1988, 1989, 1992, 1993, 1995, 1996, 1998]\n",
            "[12, 19, 24, 31, 34, 38, 40, 43, 45, 47, 52, 53, 55, 58, 60, 61, 67, 68, 69, 72, 75, 93, 108, 118, 121, 123, 125, 129, 133, 148, 149, 153, 162, 164, 185, 188, 194, 196, 204, 205, 210, 214, 217, 224, 226, 228, 231, 232, 234, 235, 236, 238, 240, 241, 250, 251, 252, 255, 257, 261, 262, 267, 269, 275, 283, 285, 289, 290, 294, 303, 304, 308, 331, 332, 334, 338, 342, 352, 353, 359, 366, 367, 371, 373, 374, 375, 395, 400, 402, 403, 404, 406, 407, 409, 414, 423, 427, 433, 434, 439, 441, 451, 452, 457, 458, 466, 467, 470, 472, 473, 483, 488, 500, 503, 505, 506, 508, 513, 517, 519, 524, 525, 526, 528, 530, 531, 535, 536, 537, 539, 542, 543, 544, 545, 548, 549, 553, 556, 558, 564, 565, 566, 567, 570, 587, 593, 595, 596, 598, 604, 607, 609, 611, 617, 618, 620, 621, 626, 627, 629, 630, 631, 633, 636, 646, 651, 653, 666, 669, 670, 676, 677, 679, 689, 699, 700, 701, 703, 704, 705, 706, 709, 712, 716, 719, 725, 726, 728, 729, 731, 733, 734, 739, 745, 747, 754, 760, 763, 764, 766, 768, 771, 775, 789, 790, 798, 800, 801, 803, 805, 806, 808, 812, 824, 826, 830, 841, 849, 859, 865, 875, 878, 879, 880, 884, 887, 891, 894, 897, 899, 902, 907, 912, 921, 922, 926, 927, 930, 933, 941, 945, 946, 952, 958, 959, 971, 976, 980, 986, 990, 998, 999, 1000, 1003, 1017, 1021, 1022, 1037, 1040, 1045, 1047, 1050, 1051, 1052, 1054, 1055, 1056, 1067, 1070, 1071, 1073, 1077, 1083, 1089, 1100, 1102, 1106, 1110, 1111, 1114, 1115, 1116, 1117, 1122, 1127, 1139, 1147, 1149, 1152, 1154, 1156, 1159, 1160, 1162, 1164, 1167, 1170, 1176, 1178, 1180, 1181, 1189, 1191, 1196, 1197, 1204, 1207, 1209, 1211, 1219, 1220, 1224, 1235, 1238, 1241, 1248, 1251, 1257, 1259, 1267, 1268, 1272, 1279, 1281, 1283, 1287, 1292, 1300, 1307, 1312, 1315, 1316, 1317, 1320, 1322, 1324, 1326, 1327, 1328, 1329, 1330, 1336, 1338, 1344, 1356, 1361, 1362, 1364, 1369, 1379, 1380, 1385, 1387, 1389, 1393, 1394, 1400, 1410, 1411, 1424, 1427, 1429, 1430, 1431, 1436, 1441, 1444, 1447, 1450, 1453, 1454, 1466, 1467, 1489, 1491, 1495, 1496, 1499, 1502, 1503, 1516, 1518, 1525, 1530, 1532, 1534, 1544, 1545, 1552, 1560, 1566, 1573, 1580, 1581, 1582, 1584, 1586, 1587, 1589, 1599, 1600, 1602, 1610, 1616, 1626, 1637, 1642, 1644, 1653, 1655, 1656, 1664, 1673, 1674, 1677, 1680, 1682, 1686, 1691, 1697, 1712, 1722, 1724, 1732, 1734, 1735, 1740, 1743, 1747, 1748, 1754, 1756, 1760, 1765, 1766, 1771, 1772, 1773, 1777, 1781, 1784, 1794, 1795, 1797, 1800, 1805, 1808, 1817, 1818, 1820, 1823, 1824, 1827, 1829, 1836, 1840, 1847, 1853, 1860, 1863, 1864, 1866, 1872, 1874, 1876, 1877, 1878, 1879, 1881, 1886, 1894, 1898, 1901, 1904, 1906, 1907, 1909, 1913, 1915, 1919, 1921, 1924, 1931, 1938, 1942, 1944, 1947, 1950, 1958, 1959, 1960, 1968, 1978, 1979, 1983, 1990, 1991, 1994, 1997, 1999]\n"
          ],
          "name": "stdout"
        }
      ]
    },
    {
      "metadata": {
        "id": "GUEmd_PLaiNj",
        "colab_type": "code",
        "colab": {
          "autoexec": {
            "startup": false,
            "wait_interval": 0
          }
        }
      },
      "cell_type": "code",
      "source": [
        "# set train and test data\n",
        "x_train = np.array(x_train_images)\n",
        "x_test = np.array(x_test_images)\n",
        "y_train = np.array(y_train_labels)\n",
        "y_test = np.array(y_test_labels)"
      ],
      "execution_count": 0,
      "outputs": []
    },
    {
      "metadata": {
        "id": "nxGr0KJVawAX",
        "colab_type": "code",
        "colab": {
          "autoexec": {
            "startup": false,
            "wait_interval": 0
          }
        }
      },
      "cell_type": "code",
      "source": [
        "# setting test as int values\n",
        "y_test = y_test.astype('uint8')"
      ],
      "execution_count": 0,
      "outputs": []
    },
    {
      "metadata": {
        "id": "5k44-idXbIMu",
        "colab_type": "code",
        "colab": {
          "autoexec": {
            "startup": false,
            "wait_interval": 0
          }
        }
      },
      "cell_type": "code",
      "source": [
        "# Calculate z score\n",
        "mean = np.mean(x_train,axis=(0,1,2,3))\n",
        "std = np.std(x_train,axis=(0,1,2,3))\n",
        "x_train = (x_train-mean)/(std+1e-7)\n",
        "x_test = (x_test-mean)/(std+1e-7)"
      ],
      "execution_count": 0,
      "outputs": []
    },
    {
      "metadata": {
        "id": "j-j2iPYTcaMw",
        "colab_type": "code",
        "colab": {
          "autoexec": {
            "startup": false,
            "wait_interval": 0
          }
        }
      },
      "cell_type": "code",
      "source": [
        "# save data\n",
        "np.save(\"x_train2.npy\",x_train)\n",
        "np.save(\"x_test2.npy\", x_test)\n",
        "np.save(\"y_train2.npy\",y_train)\n",
        "np.save(\"y_test2.npy\", y_test)"
      ],
      "execution_count": 0,
      "outputs": []
    },
    {
      "metadata": {
        "id": "-0eKCPvPbR5N",
        "colab_type": "code",
        "colab": {
          "autoexec": {
            "startup": false,
            "wait_interval": 0
          },
          "base_uri": "https://localhost:8080/",
          "height": 51
        },
        "outputId": "7eba26a4-e6b8-437c-d773-60ddfdb23fd0",
        "executionInfo": {
          "status": "ok",
          "timestamp": 1523474019824,
          "user_tz": -330,
          "elapsed": 2594,
          "user": {
            "displayName": "Khursheed Ali",
            "photoUrl": "//lh4.googleusercontent.com/-hA_6u-kNico/AAAAAAAAAAI/AAAAAAAAAyY/XwoYAX-nbos/s50-c-k-no/photo.jpg",
            "userId": "116419054524050524615"
          }
        }
      },
      "cell_type": "code",
      "source": [
        "!ls"
      ],
      "execution_count": 13,
      "outputs": [
        {
          "output_type": "stream",
          "text": [
            "datalab\t\t\t  total_images.npy  x_train2.npy  y_train2.npy\r\n",
            "ground_truth_resized.npy  x_test2.npy\t    y_test2.npy\r\n"
          ],
          "name": "stdout"
        }
      ]
    },
    {
      "metadata": {
        "id": "fKeAIqbgbW5-",
        "colab_type": "code",
        "colab": {
          "autoexec": {
            "startup": false,
            "wait_interval": 0
          }
        }
      },
      "cell_type": "code",
      "source": [
        "# load the saved data\n",
        "x_train = np.load('x_train2.npy')\n",
        "x_test = np.load('x_test2.npy')\n",
        "y_train = np.load('y_train2.npy')\n",
        "y_test = np.load('y_test2.npy')"
      ],
      "execution_count": 0,
      "outputs": []
    },
    {
      "metadata": {
        "id": "akZUni1DbeXs",
        "colab_type": "code",
        "colab": {
          "autoexec": {
            "startup": false,
            "wait_interval": 0
          },
          "base_uri": "https://localhost:8080/",
          "height": 1360
        },
        "outputId": "f926db6b-2a2c-4daf-d2e4-3f8a229b5dcd",
        "executionInfo": {
          "status": "ok",
          "timestamp": 1523474198551,
          "user_tz": -330,
          "elapsed": 2061,
          "user": {
            "displayName": "Khursheed Ali",
            "photoUrl": "//lh4.googleusercontent.com/-hA_6u-kNico/AAAAAAAAAAI/AAAAAAAAAyY/XwoYAX-nbos/s50-c-k-no/photo.jpg",
            "userId": "116419054524050524615"
          }
        }
      },
      "cell_type": "code",
      "source": [
        "# Define the network for segmentation\n",
        "rows = 256\n",
        "cols = 256\n",
        "data_shape = 216*64\n",
        "weight_decay = 0.0001\n",
        "\n",
        "inputs = Input(shape=(None,None,3))\n",
        "\n",
        "L1 = Conv2D(64,kernel_size=(3,3),padding = \"same\",kernel_regularizer=regularizers.l2(weight_decay))(inputs)\n",
        "L2 = BatchNormalization()(L1)\n",
        "L2 = Activation('relu')(L2)\n",
        "\n",
        "L3 = MaxPooling2D(pool_size=(2,2))(L2)\n",
        "L4 = Conv2D(128,kernel_size=(3,3),padding = \"same\",kernel_regularizer=regularizers.l2(weight_decay))(L3)\n",
        "L5 = BatchNormalization()(L4)\n",
        "L5 = Activation('relu')(L5)\n",
        "\n",
        "L6 = MaxPooling2D(pool_size=(2,2))(L5)\n",
        "L7 = Conv2D(128,kernel_size=(3,3),padding = \"same\",kernel_regularizer=regularizers.l2(weight_decay))(L6)\n",
        "L8 = BatchNormalization()(L7)\n",
        "L9 = Activation('relu')(L8)\n",
        "L10 = Conv2D(128,(3,3),dilation_rate= (2,2), padding = \"same\", activation='relu', name = \"conv_dil_1\")(L9)\n",
        "L11 = BatchNormalization()(L10)\n",
        "L12 = Activation('relu')(L11)\n",
        "L13 = Conv2D(128,(3,3),dilation_rate= (4,4), padding = \"same\", activation='relu', name = \"conv_dil_2\")(L12)\n",
        "L14 = BatchNormalization()(L13)\n",
        "L15 = Activation('relu')(L14)\n",
        "L16 = Conv2D(128,(3,3),dilation_rate= (8,8), padding = \"same\", activation='relu', name = \"conv_dil_3\")(L15)\n",
        "L17 = BatchNormalization()(L16)\n",
        "L18 = Activation('relu')(L17)\n",
        "L19 = Conv2D(128,kernel_size=(3,3),padding = \"same\",kernel_regularizer=regularizers.l2(weight_decay),\n",
        "             name=\"skip_conv_1\")(L6)\n",
        "L20 = Add()([L18,L19])\n",
        "L21 = UpSampling2D( size = (2,2)) (L20)\n",
        "\n",
        "L21 = Conv2D(128,(3,3), padding = \"same\", kernel_regularizer=regularizers.l2(weight_decay))(L21)\n",
        "L22 = BatchNormalization()(L21)\n",
        "L23 = Activation('relu')(L22)\n",
        "L24 = Conv2D(128,kernel_size=(3,3),padding = \"same\",kernel_regularizer=regularizers.l2(weight_decay),\n",
        "             name=\"skip_conv_2\")(L3)\n",
        "L24 = Add()([L23,L24])\n",
        "L25 = UpSampling2D(size = (2,2))(L24)\n",
        "L25 = Conv2D(64, (3,3), padding = \"same\", kernel_regularizer=regularizers.l2(weight_decay))(L25)\n",
        " \n",
        "L26 = BatchNormalization()(L25)\n",
        "L27 = Activation('relu')(L26)\n",
        "L28 = Conv2D(1,kernel_size=(1,1),padding = \"same\",kernel_regularizer=regularizers.l2(weight_decay))(L27)#\n",
        "\n",
        "L30 = Activation('sigmoid')(L28)\n",
        "model = Model(inputs = inputs, outputs = L30)\n",
        "model.summary()\n"
      ],
      "execution_count": 15,
      "outputs": [
        {
          "output_type": "stream",
          "text": [
            "__________________________________________________________________________________________________\n",
            "Layer (type)                    Output Shape         Param #     Connected to                     \n",
            "==================================================================================================\n",
            "input_1 (InputLayer)            (None, None, None, 3 0                                            \n",
            "__________________________________________________________________________________________________\n",
            "conv2d_1 (Conv2D)               (None, None, None, 6 1792        input_1[0][0]                    \n",
            "__________________________________________________________________________________________________\n",
            "batch_normalization_1 (BatchNor (None, None, None, 6 256         conv2d_1[0][0]                   \n",
            "__________________________________________________________________________________________________\n",
            "activation_1 (Activation)       (None, None, None, 6 0           batch_normalization_1[0][0]      \n",
            "__________________________________________________________________________________________________\n",
            "max_pooling2d_1 (MaxPooling2D)  (None, None, None, 6 0           activation_1[0][0]               \n",
            "__________________________________________________________________________________________________\n",
            "conv2d_2 (Conv2D)               (None, None, None, 1 73856       max_pooling2d_1[0][0]            \n",
            "__________________________________________________________________________________________________\n",
            "batch_normalization_2 (BatchNor (None, None, None, 1 512         conv2d_2[0][0]                   \n",
            "__________________________________________________________________________________________________\n",
            "activation_2 (Activation)       (None, None, None, 1 0           batch_normalization_2[0][0]      \n",
            "__________________________________________________________________________________________________\n",
            "max_pooling2d_2 (MaxPooling2D)  (None, None, None, 1 0           activation_2[0][0]               \n",
            "__________________________________________________________________________________________________\n",
            "conv2d_3 (Conv2D)               (None, None, None, 1 147584      max_pooling2d_2[0][0]            \n",
            "__________________________________________________________________________________________________\n",
            "batch_normalization_3 (BatchNor (None, None, None, 1 512         conv2d_3[0][0]                   \n",
            "__________________________________________________________________________________________________\n",
            "activation_3 (Activation)       (None, None, None, 1 0           batch_normalization_3[0][0]      \n",
            "__________________________________________________________________________________________________\n",
            "conv_dil_1 (Conv2D)             (None, None, None, 1 147584      activation_3[0][0]               \n",
            "__________________________________________________________________________________________________\n",
            "batch_normalization_4 (BatchNor (None, None, None, 1 512         conv_dil_1[0][0]                 \n",
            "__________________________________________________________________________________________________\n",
            "activation_4 (Activation)       (None, None, None, 1 0           batch_normalization_4[0][0]      \n",
            "__________________________________________________________________________________________________\n",
            "conv_dil_2 (Conv2D)             (None, None, None, 1 147584      activation_4[0][0]               \n",
            "__________________________________________________________________________________________________\n",
            "batch_normalization_5 (BatchNor (None, None, None, 1 512         conv_dil_2[0][0]                 \n",
            "__________________________________________________________________________________________________\n",
            "activation_5 (Activation)       (None, None, None, 1 0           batch_normalization_5[0][0]      \n",
            "__________________________________________________________________________________________________\n",
            "conv_dil_3 (Conv2D)             (None, None, None, 1 147584      activation_5[0][0]               \n",
            "__________________________________________________________________________________________________\n",
            "batch_normalization_6 (BatchNor (None, None, None, 1 512         conv_dil_3[0][0]                 \n",
            "__________________________________________________________________________________________________\n",
            "activation_6 (Activation)       (None, None, None, 1 0           batch_normalization_6[0][0]      \n",
            "__________________________________________________________________________________________________\n",
            "skip_conv_1 (Conv2D)            (None, None, None, 1 147584      max_pooling2d_2[0][0]            \n",
            "__________________________________________________________________________________________________\n",
            "add_1 (Add)                     (None, None, None, 1 0           activation_6[0][0]               \n",
            "                                                                 skip_conv_1[0][0]                \n",
            "__________________________________________________________________________________________________\n",
            "up_sampling2d_1 (UpSampling2D)  (None, None, None, 1 0           add_1[0][0]                      \n",
            "__________________________________________________________________________________________________\n",
            "conv2d_4 (Conv2D)               (None, None, None, 1 147584      up_sampling2d_1[0][0]            \n",
            "__________________________________________________________________________________________________\n",
            "batch_normalization_7 (BatchNor (None, None, None, 1 512         conv2d_4[0][0]                   \n",
            "__________________________________________________________________________________________________\n",
            "activation_7 (Activation)       (None, None, None, 1 0           batch_normalization_7[0][0]      \n",
            "__________________________________________________________________________________________________\n",
            "skip_conv_2 (Conv2D)            (None, None, None, 1 73856       max_pooling2d_1[0][0]            \n",
            "__________________________________________________________________________________________________\n",
            "add_2 (Add)                     (None, None, None, 1 0           activation_7[0][0]               \n",
            "                                                                 skip_conv_2[0][0]                \n",
            "__________________________________________________________________________________________________\n",
            "up_sampling2d_2 (UpSampling2D)  (None, None, None, 1 0           add_2[0][0]                      \n",
            "__________________________________________________________________________________________________\n",
            "conv2d_5 (Conv2D)               (None, None, None, 6 73792       up_sampling2d_2[0][0]            \n",
            "__________________________________________________________________________________________________\n",
            "batch_normalization_8 (BatchNor (None, None, None, 6 256         conv2d_5[0][0]                   \n",
            "__________________________________________________________________________________________________\n",
            "activation_8 (Activation)       (None, None, None, 6 0           batch_normalization_8[0][0]      \n",
            "__________________________________________________________________________________________________\n",
            "conv2d_6 (Conv2D)               (None, None, None, 1 65          activation_8[0][0]               \n",
            "__________________________________________________________________________________________________\n",
            "activation_9 (Activation)       (None, None, None, 1 0           conv2d_6[0][0]                   \n",
            "==================================================================================================\n",
            "Total params: 1,112,449\n",
            "Trainable params: 1,110,657\n",
            "Non-trainable params: 1,792\n",
            "__________________________________________________________________________________________________\n"
          ],
          "name": "stdout"
        }
      ]
    },
    {
      "metadata": {
        "id": "7otUultDeoad",
        "colab_type": "code",
        "colab": {
          "autoexec": {
            "startup": false,
            "wait_interval": 0
          }
        }
      },
      "cell_type": "code",
      "source": [
        "# reshape \n",
        "y_train = y_train.reshape(y_train.shape[0],256,256,1)\n",
        "y_test = y_test.reshape(y_test.shape[0],256,256,1)\n",
        "smooth = 1"
      ],
      "execution_count": 0,
      "outputs": []
    },
    {
      "metadata": {
        "id": "eR-L6UIgfCXD",
        "colab_type": "code",
        "colab": {
          "autoexec": {
            "startup": false,
            "wait_interval": 0
          }
        }
      },
      "cell_type": "code",
      "source": [
        "# loss metrics\n",
        "\n",
        "def customized_loss(y_true,y_pred):\n",
        "    return (1*K.binary_crossentropy(y_true, y_pred))+(0.5*dice_coef_loss(y_true, y_pred))\n",
        "\n",
        "def dice_coef(y_true, y_pred):\n",
        "    y_true_f = K.flatten(y_true)\n",
        "    y_pred_f = K.flatten(y_pred)\n",
        "    intersection = K.sum(y_true_f * y_pred_f)\n",
        "    return (2. * intersection + smooth) / (K.sum(y_true_f) + K.sum(y_pred_f) + smooth)\n",
        "\n",
        "def dice_coef_loss(y_true, y_pred):\n",
        "    return -dice_coef(y_true, y_pred)\n"
      ],
      "execution_count": 0,
      "outputs": []
    },
    {
      "metadata": {
        "id": "mD7yrSY2fMeJ",
        "colab_type": "code",
        "colab": {
          "autoexec": {
            "startup": false,
            "wait_interval": 0
          },
          "base_uri": "https://localhost:8080/",
          "height": 1560
        },
        "outputId": "41d16bbb-aabe-46c6-b7ea-d91600b86f7d",
        "executionInfo": {
          "status": "error",
          "timestamp": 1523503968729,
          "user_tz": -330,
          "elapsed": 29768591,
          "user": {
            "displayName": "Khursheed Ali",
            "photoUrl": "//lh4.googleusercontent.com/-hA_6u-kNico/AAAAAAAAAAI/AAAAAAAAAyY/XwoYAX-nbos/s50-c-k-no/photo.jpg",
            "userId": "116419054524050524615"
          }
        }
      },
      "cell_type": "code",
      "source": [
        "# executing the model and Callback functions for conditions\n",
        "optimiser = optimizers.Adam(lr = 0.01)\n",
        "model.compile(optimizer=optimiser,loss=dice_coef_loss,metrics=['accuracy',dice_coef])\n",
        "\n",
        "lr_reducer = ReduceLROnPlateau(factor=0.5, cooldown=0, patience=6, min_lr=0.5e-6)\n",
        "csv_logger = CSVLogger('segmentation_lr_e2_bs4.csv')\n",
        "model_chekpoint = ModelCheckpoint(\"segmentation_lr_e2_bs4.hdf5\",monitor = 'val_loss',verbose = 1,save_best_only=True)\n",
        "\n",
        "model.fit(x_train,y_train,batch_size=4,epochs=200,validation_data=(x_test, y_test),callbacks=[lr_reducer, csv_logger,model_chekpoint])"
      ],
      "execution_count": 18,
      "outputs": [
        {
          "output_type": "stream",
          "text": [
            "Train on 1500 samples, validate on 500 samples\n",
            "Epoch 1/200\n",
            "1500/1500 [==============================] - 5440s 4s/step - loss: -0.5447 - acc: 0.8517 - dice_coef: 0.6133 - val_loss: -0.5161 - val_acc: 0.8221 - val_dice_coef: 0.5844\n",
            "\n",
            "Epoch 00001: val_loss improved from inf to -0.51613, saving model to segmentation_lr_e2_bs4.hdf5\n",
            "Epoch 2/200\n",
            " 332/1500 [=====>........................] - ETA: 1:01:47 - loss: -0.5671 - acc: 0.8705 - dice_coef: 0.6528"
          ],
          "name": "stdout"
        },
        {
          "output_type": "stream",
          "text": [
            "1500/1500 [==============================] - 5427s 4s/step - loss: -0.6004 - acc: 0.8831 - dice_coef: 0.6805 - val_loss: -0.4597 - val_acc: 0.8728 - val_dice_coef: 0.5278\n",
            "\n",
            "Epoch 00002: val_loss did not improve\n",
            "Epoch 3/200\n",
            " 840/1500 [===============>..............] - ETA: 35:06 - loss: -0.6824 - acc: 0.9065 - dice_coef: 0.7371"
          ],
          "name": "stdout"
        },
        {
          "output_type": "stream",
          "text": [
            "1500/1500 [==============================] - 5409s 4s/step - loss: -0.6815 - acc: 0.9076 - dice_coef: 0.7369 - val_loss: -0.5484 - val_acc: 0.8882 - val_dice_coef: 0.5883\n",
            "\n",
            "Epoch 00003: val_loss improved from -0.51613 to -0.54837, saving model to segmentation_lr_e2_bs4.hdf5\n",
            "Epoch 4/200\n",
            " 836/1500 [===============>..............] - ETA: 37:44 - loss: -0.7256 - acc: 0.9156 - dice_coef: 0.7661"
          ],
          "name": "stdout"
        },
        {
          "output_type": "stream",
          "text": [
            "1500/1500 [==============================] - 5496s 4s/step - loss: -0.7315 - acc: 0.9184 - dice_coef: 0.7707 - val_loss: -0.6609 - val_acc: 0.9124 - val_dice_coef: 0.6989\n",
            "\n",
            "Epoch 00004: val_loss improved from -0.54837 to -0.66094, saving model to segmentation_lr_e2_bs4.hdf5\n",
            "Epoch 5/200\n",
            " 836/1500 [===============>..............] - ETA: 36:13 - loss: -0.7535 - acc: 0.9244 - dice_coef: 0.7872"
          ],
          "name": "stdout"
        },
        {
          "output_type": "stream",
          "text": [
            "1500/1500 [==============================] - 5398s 4s/step - loss: -0.7582 - acc: 0.9245 - dice_coef: 0.7871 - val_loss: -0.5667 - val_acc: 0.8968 - val_dice_coef: 0.5945\n",
            "\n",
            "Epoch 00005: val_loss did not improve\n",
            "Epoch 6/200\n",
            " 788/1500 [==============>...............] - ETA: 38:49 - loss: -0.7636 - acc: 0.9263 - dice_coef: 0.7894"
          ],
          "name": "stdout"
        },
        {
          "output_type": "error",
          "ename": "KeyboardInterrupt",
          "evalue": "ignored",
          "traceback": [
            "\u001b[0;31m---------------------------------------------------------------------------\u001b[0m",
            "\u001b[0;31mKeyboardInterrupt\u001b[0m                         Traceback (most recent call last)",
            "\u001b[0;32m<ipython-input-18-9e51add64991>\u001b[0m in \u001b[0;36m<module>\u001b[0;34m()\u001b[0m\n\u001b[1;32m      6\u001b[0m \u001b[0mmodel_chekpoint\u001b[0m \u001b[0;34m=\u001b[0m \u001b[0mModelCheckpoint\u001b[0m\u001b[0;34m(\u001b[0m\u001b[0;34m\"segmentation_lr_e2_bs4.hdf5\"\u001b[0m\u001b[0;34m,\u001b[0m\u001b[0mmonitor\u001b[0m \u001b[0;34m=\u001b[0m \u001b[0;34m'val_loss'\u001b[0m\u001b[0;34m,\u001b[0m\u001b[0mverbose\u001b[0m \u001b[0;34m=\u001b[0m \u001b[0;36m1\u001b[0m\u001b[0;34m,\u001b[0m\u001b[0msave_best_only\u001b[0m\u001b[0;34m=\u001b[0m\u001b[0;32mTrue\u001b[0m\u001b[0;34m)\u001b[0m\u001b[0;34m\u001b[0m\u001b[0m\n\u001b[1;32m      7\u001b[0m \u001b[0;34m\u001b[0m\u001b[0m\n\u001b[0;32m----> 8\u001b[0;31m \u001b[0mmodel\u001b[0m\u001b[0;34m.\u001b[0m\u001b[0mfit\u001b[0m\u001b[0;34m(\u001b[0m\u001b[0mx_train\u001b[0m\u001b[0;34m,\u001b[0m\u001b[0my_train\u001b[0m\u001b[0;34m,\u001b[0m\u001b[0mbatch_size\u001b[0m\u001b[0;34m=\u001b[0m\u001b[0;36m4\u001b[0m\u001b[0;34m,\u001b[0m\u001b[0mepochs\u001b[0m\u001b[0;34m=\u001b[0m\u001b[0;36m200\u001b[0m\u001b[0;34m,\u001b[0m\u001b[0mvalidation_data\u001b[0m\u001b[0;34m=\u001b[0m\u001b[0;34m(\u001b[0m\u001b[0mx_test\u001b[0m\u001b[0;34m,\u001b[0m \u001b[0my_test\u001b[0m\u001b[0;34m)\u001b[0m\u001b[0;34m,\u001b[0m\u001b[0mcallbacks\u001b[0m\u001b[0;34m=\u001b[0m\u001b[0;34m[\u001b[0m\u001b[0mlr_reducer\u001b[0m\u001b[0;34m,\u001b[0m \u001b[0mcsv_logger\u001b[0m\u001b[0;34m,\u001b[0m\u001b[0mmodel_chekpoint\u001b[0m\u001b[0;34m]\u001b[0m\u001b[0;34m)\u001b[0m\u001b[0;34m\u001b[0m\u001b[0m\n\u001b[0m",
            "\u001b[0;32m/usr/local/lib/python3.6/dist-packages/keras/engine/training.py\u001b[0m in \u001b[0;36mfit\u001b[0;34m(self, x, y, batch_size, epochs, verbose, callbacks, validation_split, validation_data, shuffle, class_weight, sample_weight, initial_epoch, steps_per_epoch, validation_steps, **kwargs)\u001b[0m\n\u001b[1;32m   1703\u001b[0m                               \u001b[0minitial_epoch\u001b[0m\u001b[0;34m=\u001b[0m\u001b[0minitial_epoch\u001b[0m\u001b[0;34m,\u001b[0m\u001b[0;34m\u001b[0m\u001b[0m\n\u001b[1;32m   1704\u001b[0m                               \u001b[0msteps_per_epoch\u001b[0m\u001b[0;34m=\u001b[0m\u001b[0msteps_per_epoch\u001b[0m\u001b[0;34m,\u001b[0m\u001b[0;34m\u001b[0m\u001b[0m\n\u001b[0;32m-> 1705\u001b[0;31m                               validation_steps=validation_steps)\n\u001b[0m\u001b[1;32m   1706\u001b[0m \u001b[0;34m\u001b[0m\u001b[0m\n\u001b[1;32m   1707\u001b[0m     def evaluate(self, x=None, y=None,\n",
            "\u001b[0;32m/usr/local/lib/python3.6/dist-packages/keras/engine/training.py\u001b[0m in \u001b[0;36m_fit_loop\u001b[0;34m(self, f, ins, out_labels, batch_size, epochs, verbose, callbacks, val_f, val_ins, shuffle, callback_metrics, initial_epoch, steps_per_epoch, validation_steps)\u001b[0m\n\u001b[1;32m   1233\u001b[0m                         \u001b[0mins_batch\u001b[0m\u001b[0;34m[\u001b[0m\u001b[0mi\u001b[0m\u001b[0;34m]\u001b[0m \u001b[0;34m=\u001b[0m \u001b[0mins_batch\u001b[0m\u001b[0;34m[\u001b[0m\u001b[0mi\u001b[0m\u001b[0;34m]\u001b[0m\u001b[0;34m.\u001b[0m\u001b[0mtoarray\u001b[0m\u001b[0;34m(\u001b[0m\u001b[0;34m)\u001b[0m\u001b[0;34m\u001b[0m\u001b[0m\n\u001b[1;32m   1234\u001b[0m \u001b[0;34m\u001b[0m\u001b[0m\n\u001b[0;32m-> 1235\u001b[0;31m                     \u001b[0mouts\u001b[0m \u001b[0;34m=\u001b[0m \u001b[0mf\u001b[0m\u001b[0;34m(\u001b[0m\u001b[0mins_batch\u001b[0m\u001b[0;34m)\u001b[0m\u001b[0;34m\u001b[0m\u001b[0m\n\u001b[0m\u001b[1;32m   1236\u001b[0m                     \u001b[0;32mif\u001b[0m \u001b[0;32mnot\u001b[0m \u001b[0misinstance\u001b[0m\u001b[0;34m(\u001b[0m\u001b[0mouts\u001b[0m\u001b[0;34m,\u001b[0m \u001b[0mlist\u001b[0m\u001b[0;34m)\u001b[0m\u001b[0;34m:\u001b[0m\u001b[0;34m\u001b[0m\u001b[0m\n\u001b[1;32m   1237\u001b[0m                         \u001b[0mouts\u001b[0m \u001b[0;34m=\u001b[0m \u001b[0;34m[\u001b[0m\u001b[0mouts\u001b[0m\u001b[0;34m]\u001b[0m\u001b[0;34m\u001b[0m\u001b[0m\n",
            "\u001b[0;32m/usr/local/lib/python3.6/dist-packages/keras/backend/tensorflow_backend.py\u001b[0m in \u001b[0;36m__call__\u001b[0;34m(self, inputs)\u001b[0m\n\u001b[1;32m   2476\u001b[0m         \u001b[0msession\u001b[0m \u001b[0;34m=\u001b[0m \u001b[0mget_session\u001b[0m\u001b[0;34m(\u001b[0m\u001b[0;34m)\u001b[0m\u001b[0;34m\u001b[0m\u001b[0m\n\u001b[1;32m   2477\u001b[0m         updated = session.run(fetches=fetches, feed_dict=feed_dict,\n\u001b[0;32m-> 2478\u001b[0;31m                               **self.session_kwargs)\n\u001b[0m\u001b[1;32m   2479\u001b[0m         \u001b[0;32mreturn\u001b[0m \u001b[0mupdated\u001b[0m\u001b[0;34m[\u001b[0m\u001b[0;34m:\u001b[0m\u001b[0mlen\u001b[0m\u001b[0;34m(\u001b[0m\u001b[0mself\u001b[0m\u001b[0;34m.\u001b[0m\u001b[0moutputs\u001b[0m\u001b[0;34m)\u001b[0m\u001b[0;34m]\u001b[0m\u001b[0;34m\u001b[0m\u001b[0m\n\u001b[1;32m   2480\u001b[0m \u001b[0;34m\u001b[0m\u001b[0m\n",
            "\u001b[0;32m/usr/local/lib/python3.6/dist-packages/tensorflow/python/client/session.py\u001b[0m in \u001b[0;36mrun\u001b[0;34m(self, fetches, feed_dict, options, run_metadata)\u001b[0m\n\u001b[1;32m    903\u001b[0m     \u001b[0;32mtry\u001b[0m\u001b[0;34m:\u001b[0m\u001b[0;34m\u001b[0m\u001b[0m\n\u001b[1;32m    904\u001b[0m       result = self._run(None, fetches, feed_dict, options_ptr,\n\u001b[0;32m--> 905\u001b[0;31m                          run_metadata_ptr)\n\u001b[0m\u001b[1;32m    906\u001b[0m       \u001b[0;32mif\u001b[0m \u001b[0mrun_metadata\u001b[0m\u001b[0;34m:\u001b[0m\u001b[0;34m\u001b[0m\u001b[0m\n\u001b[1;32m    907\u001b[0m         \u001b[0mproto_data\u001b[0m \u001b[0;34m=\u001b[0m \u001b[0mtf_session\u001b[0m\u001b[0;34m.\u001b[0m\u001b[0mTF_GetBuffer\u001b[0m\u001b[0;34m(\u001b[0m\u001b[0mrun_metadata_ptr\u001b[0m\u001b[0;34m)\u001b[0m\u001b[0;34m\u001b[0m\u001b[0m\n",
            "\u001b[0;32m/usr/local/lib/python3.6/dist-packages/tensorflow/python/client/session.py\u001b[0m in \u001b[0;36m_run\u001b[0;34m(self, handle, fetches, feed_dict, options, run_metadata)\u001b[0m\n\u001b[1;32m   1135\u001b[0m     \u001b[0;32mif\u001b[0m \u001b[0mfinal_fetches\u001b[0m \u001b[0;32mor\u001b[0m \u001b[0mfinal_targets\u001b[0m \u001b[0;32mor\u001b[0m \u001b[0;34m(\u001b[0m\u001b[0mhandle\u001b[0m \u001b[0;32mand\u001b[0m \u001b[0mfeed_dict_tensor\u001b[0m\u001b[0;34m)\u001b[0m\u001b[0;34m:\u001b[0m\u001b[0;34m\u001b[0m\u001b[0m\n\u001b[1;32m   1136\u001b[0m       results = self._do_run(handle, final_targets, final_fetches,\n\u001b[0;32m-> 1137\u001b[0;31m                              feed_dict_tensor, options, run_metadata)\n\u001b[0m\u001b[1;32m   1138\u001b[0m     \u001b[0;32melse\u001b[0m\u001b[0;34m:\u001b[0m\u001b[0;34m\u001b[0m\u001b[0m\n\u001b[1;32m   1139\u001b[0m       \u001b[0mresults\u001b[0m \u001b[0;34m=\u001b[0m \u001b[0;34m[\u001b[0m\u001b[0;34m]\u001b[0m\u001b[0;34m\u001b[0m\u001b[0m\n",
            "\u001b[0;32m/usr/local/lib/python3.6/dist-packages/tensorflow/python/client/session.py\u001b[0m in \u001b[0;36m_do_run\u001b[0;34m(self, handle, target_list, fetch_list, feed_dict, options, run_metadata)\u001b[0m\n\u001b[1;32m   1353\u001b[0m     \u001b[0;32mif\u001b[0m \u001b[0mhandle\u001b[0m \u001b[0;32mis\u001b[0m \u001b[0;32mNone\u001b[0m\u001b[0;34m:\u001b[0m\u001b[0;34m\u001b[0m\u001b[0m\n\u001b[1;32m   1354\u001b[0m       return self._do_call(_run_fn, self._session, feeds, fetches, targets,\n\u001b[0;32m-> 1355\u001b[0;31m                            options, run_metadata)\n\u001b[0m\u001b[1;32m   1356\u001b[0m     \u001b[0;32melse\u001b[0m\u001b[0;34m:\u001b[0m\u001b[0;34m\u001b[0m\u001b[0m\n\u001b[1;32m   1357\u001b[0m       \u001b[0;32mreturn\u001b[0m \u001b[0mself\u001b[0m\u001b[0;34m.\u001b[0m\u001b[0m_do_call\u001b[0m\u001b[0;34m(\u001b[0m\u001b[0m_prun_fn\u001b[0m\u001b[0;34m,\u001b[0m \u001b[0mself\u001b[0m\u001b[0;34m.\u001b[0m\u001b[0m_session\u001b[0m\u001b[0;34m,\u001b[0m \u001b[0mhandle\u001b[0m\u001b[0;34m,\u001b[0m \u001b[0mfeeds\u001b[0m\u001b[0;34m,\u001b[0m \u001b[0mfetches\u001b[0m\u001b[0;34m)\u001b[0m\u001b[0;34m\u001b[0m\u001b[0m\n",
            "\u001b[0;32m/usr/local/lib/python3.6/dist-packages/tensorflow/python/client/session.py\u001b[0m in \u001b[0;36m_do_call\u001b[0;34m(self, fn, *args)\u001b[0m\n\u001b[1;32m   1359\u001b[0m   \u001b[0;32mdef\u001b[0m \u001b[0m_do_call\u001b[0m\u001b[0;34m(\u001b[0m\u001b[0mself\u001b[0m\u001b[0;34m,\u001b[0m \u001b[0mfn\u001b[0m\u001b[0;34m,\u001b[0m \u001b[0;34m*\u001b[0m\u001b[0margs\u001b[0m\u001b[0;34m)\u001b[0m\u001b[0;34m:\u001b[0m\u001b[0;34m\u001b[0m\u001b[0m\n\u001b[1;32m   1360\u001b[0m     \u001b[0;32mtry\u001b[0m\u001b[0;34m:\u001b[0m\u001b[0;34m\u001b[0m\u001b[0m\n\u001b[0;32m-> 1361\u001b[0;31m       \u001b[0;32mreturn\u001b[0m \u001b[0mfn\u001b[0m\u001b[0;34m(\u001b[0m\u001b[0;34m*\u001b[0m\u001b[0margs\u001b[0m\u001b[0;34m)\u001b[0m\u001b[0;34m\u001b[0m\u001b[0m\n\u001b[0m\u001b[1;32m   1362\u001b[0m     \u001b[0;32mexcept\u001b[0m \u001b[0merrors\u001b[0m\u001b[0;34m.\u001b[0m\u001b[0mOpError\u001b[0m \u001b[0;32mas\u001b[0m \u001b[0me\u001b[0m\u001b[0;34m:\u001b[0m\u001b[0;34m\u001b[0m\u001b[0m\n\u001b[1;32m   1363\u001b[0m       \u001b[0mmessage\u001b[0m \u001b[0;34m=\u001b[0m \u001b[0mcompat\u001b[0m\u001b[0;34m.\u001b[0m\u001b[0mas_text\u001b[0m\u001b[0;34m(\u001b[0m\u001b[0me\u001b[0m\u001b[0;34m.\u001b[0m\u001b[0mmessage\u001b[0m\u001b[0;34m)\u001b[0m\u001b[0;34m\u001b[0m\u001b[0m\n",
            "\u001b[0;32m/usr/local/lib/python3.6/dist-packages/tensorflow/python/client/session.py\u001b[0m in \u001b[0;36m_run_fn\u001b[0;34m(session, feed_dict, fetch_list, target_list, options, run_metadata)\u001b[0m\n\u001b[1;32m   1338\u001b[0m         \u001b[0;32melse\u001b[0m\u001b[0;34m:\u001b[0m\u001b[0;34m\u001b[0m\u001b[0m\n\u001b[1;32m   1339\u001b[0m           return tf_session.TF_Run(session, options, feed_dict, fetch_list,\n\u001b[0;32m-> 1340\u001b[0;31m                                    target_list, status, run_metadata)\n\u001b[0m\u001b[1;32m   1341\u001b[0m \u001b[0;34m\u001b[0m\u001b[0m\n\u001b[1;32m   1342\u001b[0m     \u001b[0;32mdef\u001b[0m \u001b[0m_prun_fn\u001b[0m\u001b[0;34m(\u001b[0m\u001b[0msession\u001b[0m\u001b[0;34m,\u001b[0m \u001b[0mhandle\u001b[0m\u001b[0;34m,\u001b[0m \u001b[0mfeed_dict\u001b[0m\u001b[0;34m,\u001b[0m \u001b[0mfetch_list\u001b[0m\u001b[0;34m)\u001b[0m\u001b[0;34m:\u001b[0m\u001b[0;34m\u001b[0m\u001b[0m\n",
            "\u001b[0;31mKeyboardInterrupt\u001b[0m: "
          ]
        }
      ]
    },
    {
      "metadata": {
        "id": "noL5Y9HTgAIu",
        "colab_type": "code",
        "colab": {
          "autoexec": {
            "startup": false,
            "wait_interval": 0
          },
          "base_uri": "https://localhost:8080/",
          "height": 68
        },
        "outputId": "74e739e7-76c1-4d05-cf0b-4adeb704e80b",
        "executionInfo": {
          "status": "ok",
          "timestamp": 1523504539560,
          "user_tz": -330,
          "elapsed": 2960,
          "user": {
            "displayName": "Khursheed Ali",
            "photoUrl": "//lh4.googleusercontent.com/-hA_6u-kNico/AAAAAAAAAAI/AAAAAAAAAyY/XwoYAX-nbos/s50-c-k-no/photo.jpg",
            "userId": "116419054524050524615"
          }
        }
      },
      "cell_type": "code",
      "source": [
        "!ls"
      ],
      "execution_count": 20,
      "outputs": [
        {
          "output_type": "stream",
          "text": [
            "datalab\t\t\t    segmentation_lr_e2_bs4.hdf5  x_train2.npy\r\n",
            "ground_truth_resized.npy    total_images.npy\t\t y_test2.npy\r\n",
            "segmentation_lr_e2_bs4.csv  x_test2.npy\t\t\t y_train2.npy\r\n"
          ],
          "name": "stdout"
        }
      ]
    },
    {
      "metadata": {
        "id": "ZEfX2WvqfgPt",
        "colab_type": "code",
        "colab": {
          "autoexec": {
            "startup": false,
            "wait_interval": 0
          }
        }
      },
      "cell_type": "code",
      "source": [
        "# Upload the segmentation weights to Drive. See:\n",
        "#\n",
        "# https://developers.google.com/drive/v3/reference/files/create\n",
        "# https://developers.google.com/drive/v3/web/manage-uploads\n",
        "from google.colab import auth\n",
        "auth.authenticate_user()\n",
        "from googleapiclient.discovery import build\n",
        "drive_service = build('drive', 'v3')\n",
        "from googleapiclient.http import MediaFileUpload\n",
        "\n",
        "file_metadata = {\n",
        "  'name': 'segmentation_lr_e2_bs4.csv',\n",
        "}\n",
        "media = MediaFileUpload('segmentation_lr_e2_bs4.csv', \n",
        "                        resumable=True)\n",
        "created = drive_service.files().create(body=file_metadata,\n",
        "                                       media_body=media,\n",
        "                                       fields='id').execute()\n",
        "print('File ID: {}'.format(created.get('id')))"
      ],
      "execution_count": 0,
      "outputs": []
    },
    {
      "metadata": {
        "id": "Y4ELrUl6-vKf",
        "colab_type": "code",
        "colab": {
          "autoexec": {
            "startup": false,
            "wait_interval": 0
          }
        }
      },
      "cell_type": "code",
      "source": [
        "# load the above model\n",
        "model.load_weights('segmentation_lr_e2_bs4.hdf5')"
      ],
      "execution_count": 0,
      "outputs": []
    },
    {
      "metadata": {
        "id": "SYi7qki__IHZ",
        "colab_type": "code",
        "colab": {
          "autoexec": {
            "startup": false,
            "wait_interval": 0
          },
          "base_uri": "https://localhost:8080/",
          "height": 286
        },
        "outputId": "56ffc17e-80ab-4fcb-8694-abc38e1f7c94",
        "executionInfo": {
          "status": "ok",
          "timestamp": 1523505383696,
          "user_tz": -330,
          "elapsed": 1740,
          "user": {
            "displayName": "Khursheed Ali",
            "photoUrl": "//lh4.googleusercontent.com/-hA_6u-kNico/AAAAAAAAAAI/AAAAAAAAAyY/XwoYAX-nbos/s50-c-k-no/photo.jpg",
            "userId": "116419054524050524615"
          }
        }
      },
      "cell_type": "code",
      "source": [
        "plt.imshow(x[7])"
      ],
      "execution_count": 38,
      "outputs": [
        {
          "output_type": "execute_result",
          "data": {
            "text/plain": [
              "<matplotlib.image.AxesImage at 0x7f16fcf9c128>"
            ]
          },
          "metadata": {
            "tags": []
          },
          "execution_count": 38
        },
        {
          "output_type": "display_data",
          "data": {
            "image/png": "[encoded data removed]",
            "text/plain": [
              "<matplotlib.figure.Figure at 0x7f16fd005a90>"
            ]
          },
          "metadata": {
            "tags": []
          }
        }
      ]
    },
    {
      "metadata": {
        "id": "pXr4zaDw_Kyv",
        "colab_type": "code",
        "colab": {
          "autoexec": {
            "startup": false,
            "wait_interval": 0
          }
        }
      },
      "cell_type": "code",
      "source": [
        "\n",
        "gt = y_test[7].reshape((256,256))\n",
        "testing_image = x_test[7].reshape((1,256,256,3))\n",
        "prediction = model.predict(testing_image)\n",
        "prediction = prediction.reshape((256,256))\n",
        "test_sample = prediction > 0.5"
      ],
      "execution_count": 0,
      "outputs": []
    },
    {
      "metadata": {
        "id": "g77cPmOg_Skx",
        "colab_type": "code",
        "colab": {
          "autoexec": {
            "startup": false,
            "wait_interval": 0
          },
          "base_uri": "https://localhost:8080/",
          "height": 286
        },
        "outputId": "9cbd3595-9eb5-49a8-f8c6-766825a0aced",
        "executionInfo": {
          "status": "ok",
          "timestamp": 1523505402326,
          "user_tz": -330,
          "elapsed": 1184,
          "user": {
            "displayName": "Khursheed Ali",
            "photoUrl": "//lh4.googleusercontent.com/-hA_6u-kNico/AAAAAAAAAAI/AAAAAAAAAyY/XwoYAX-nbos/s50-c-k-no/photo.jpg",
            "userId": "116419054524050524615"
          }
        }
      },
      "cell_type": "code",
      "source": [
        "plt.imshow(test_sample, cmap = \"gray\")"
      ],
      "execution_count": 40,
      "outputs": [
        {
          "output_type": "execute_result",
          "data": {
            "text/plain": [
              "<matplotlib.image.AxesImage at 0x7f16fcf875f8>"
            ]
          },
          "metadata": {
            "tags": []
          },
          "execution_count": 40
        },
        {
          "output_type": "display_data",
          "data": {
            "image/png": "[encoded data removed]",
            "text/plain": [
              "<matplotlib.figure.Figure at 0x7f16fcf3bbe0>"
            ]
          },
          "metadata": {
            "tags": []
          }
        }
      ]
    },
    {
      "metadata": {
        "id": "DNbS5V_e_nDS",
        "colab_type": "code",
        "colab": {
          "autoexec": {
            "startup": false,
            "wait_interval": 0
          },
          "base_uri": "https://localhost:8080/",
          "height": 221
        },
        "outputId": "d6aeee07-9a62-4b2d-89ca-10a4f52e337c",
        "executionInfo": {
          "status": "ok",
          "timestamp": 1523505987863,
          "user_tz": -330,
          "elapsed": 1642,
          "user": {
            "displayName": "Khursheed Ali",
            "photoUrl": "//lh4.googleusercontent.com/-hA_6u-kNico/AAAAAAAAAAI/AAAAAAAAAyY/XwoYAX-nbos/s50-c-k-no/photo.jpg",
            "userId": "116419054524050524615"
          }
        }
      },
      "cell_type": "code",
      "source": [
        "plt.subplot(1,2,1)\n",
        "plt.imshow(test_sample, cmap = \"gray\")\n",
        "plt.subplot(1,2,2)\n",
        "plt.imshow(gt, cmap = \"gray\")\n",
        "\n"
      ],
      "execution_count": 54,
      "outputs": [
        {
          "output_type": "execute_result",
          "data": {
            "text/plain": [
              "<matplotlib.image.AxesImage at 0x7f170180c9b0>"
            ]
          },
          "metadata": {
            "tags": []
          },
          "execution_count": 54
        },
        {
          "output_type": "display_data",
          "data": {
            "image/png": "[encoded data removed]",
            "text/plain": [
              "<matplotlib.figure.Figure at 0x7f17018be8d0>"
            ]
          },
          "metadata": {
            "tags": []
          }
        }
      ]
    },
    {
      "metadata": {
        "id": "bxJqce2l-_vF",
        "colab_type": "code",
        "colab": {
          "autoexec": {
            "startup": false,
            "wait_interval": 0
          }
        }
      },
      "cell_type": "code",
      "source": [
        ""
      ],
      "execution_count": 0,
      "outputs": []
    }
  ]
}