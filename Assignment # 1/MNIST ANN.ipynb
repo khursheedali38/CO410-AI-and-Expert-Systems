{
 "cells": [
  {
   "cell_type": "code",
   "execution_count": 30,
   "metadata": {},
   "outputs": [],
   "source": [
    "from __future__ import print_function\n",
    "\n",
    "import tensorflow as tf\n",
    "\n",
    "batch_size = 128\n",
    "num_classes = 10\n",
    "epochs = 20\n"
   ]
  },
  {
   "cell_type": "code",
   "execution_count": 31,
   "metadata": {},
   "outputs": [
    {
     "name": "stdout",
     "output_type": "stream",
     "text": [
      "60000 train samples\n",
      "10000 test samples\n"
     ]
    }
   ],
   "source": [
    "#data is randomly split into training and test set\n",
    "mnist = tf.keras.datasets.mnist\n",
    "(x_train, y_train), (x_test, y_test) = mnist.load_data()\n",
    "\n",
    "#data preprocessing\n",
    "x_train = x_train.reshape(60000, 784)\n",
    "x_test = x_test.reshape(10000, 784)\n",
    "x_train = x_train.astype('float32')\n",
    "x_test = x_test.astype('float32')\n",
    "\n",
    "#normalization\n",
    "x_train /= 255\n",
    "x_test /= 255\n",
    "\n",
    "\n",
    "print(x_train.shape[0], 'train samples')\n",
    "print(x_test.shape[0], 'test samples')"
   ]
  },
  {
   "cell_type": "code",
   "execution_count": 32,
   "metadata": {
    "collapsed": true
   },
   "outputs": [],
   "source": [
    "# convert class vectors to binary class matrices\n",
    "y_train = tf.keras.utils.to_categorical(y_train, num_classes)\n",
    "y_test = tf.keras.utils.to_categorical(y_test, num_classes)\n"
   ]
  },
  {
   "cell_type": "code",
   "execution_count": 33,
   "metadata": {},
   "outputs": [
    {
     "name": "stdout",
     "output_type": "stream",
     "text": [
      "_________________________________________________________________\n",
      "Layer (type)                 Output Shape              Param #   \n",
      "=================================================================\n",
      "dense_4 (Dense)              (None, 512)               401920    \n",
      "_________________________________________________________________\n",
      "dropout_3 (Dropout)          (None, 512)               0         \n",
      "_________________________________________________________________\n",
      "dense_5 (Dense)              (None, 512)               262656    \n",
      "_________________________________________________________________\n",
      "dropout_4 (Dropout)          (None, 512)               0         \n",
      "_________________________________________________________________\n",
      "dense_6 (Dense)              (None, 10)                5130      \n",
      "=================================================================\n",
      "Total params: 669,706\n",
      "Trainable params: 669,706\n",
      "Non-trainable params: 0\n",
      "_________________________________________________________________\n"
     ]
    }
   ],
   "source": [
    "# Select and define the model\n",
    "Sequential = tf.keras.models.Sequential\n",
    "Dense = tf.keras.layers.Dense\n",
    "Dropout = tf.keras.layers.Dropout\n",
    "RMSprop = tf.keras.optimizers.RMSprop\n",
    "\n",
    "model = Sequential()\n",
    "model.add(Dense(512, activation='relu', input_shape=(784,)))\n",
    "model.add(Dropout(0.2))\n",
    "model.add(Dense(512, activation='relu'))\n",
    "model.add(Dropout(0.2))\n",
    "model.add(Dense(num_classes, activation='softmax'))\n",
    "\n",
    "model.summary()\n"
   ]
  },
  {
   "cell_type": "code",
   "execution_count": 34,
   "metadata": {},
   "outputs": [
    {
     "name": "stdout",
     "output_type": "stream",
     "text": [
      "Train on 60000 samples, validate on 10000 samples\n",
      "Epoch 1/20\n",
      "60000/60000 [==============================]60000/60000 [==============================] - 8s 126us/step - loss: 0.2467 - acc: 0.9242 - val_loss: 0.1099 - val_acc: 0.9655\n",
      "\n",
      "Epoch 2/20\n",
      "60000/60000 [==============================]60000/60000 [==============================] - 7s 119us/step - loss: 0.1046 - acc: 0.9681 - val_loss: 0.0913 - val_acc: 0.9741\n",
      "\n",
      "Epoch 3/20\n",
      "60000/60000 [==============================]60000/60000 [==============================] - 7s 119us/step - loss: 0.0765 - acc: 0.9772 - val_loss: 0.0762 - val_acc: 0.9772\n",
      "\n",
      "Epoch 4/20\n",
      "60000/60000 [==============================]60000/60000 [==============================] - 7s 119us/step - loss: 0.0610 - acc: 0.9820 - val_loss: 0.0857 - val_acc: 0.9751\n",
      "\n",
      "Epoch 5/20\n",
      "60000/60000 [==============================]60000/60000 [==============================] - 7s 120us/step - loss: 0.0515 - acc: 0.9847 - val_loss: 0.0737 - val_acc: 0.9814\n",
      "\n",
      "Epoch 6/20\n",
      "60000/60000 [==============================]60000/60000 [==============================] - 7s 120us/step - loss: 0.0436 - acc: 0.9874 - val_loss: 0.0836 - val_acc: 0.9804\n",
      "\n",
      "Epoch 7/20\n",
      "60000/60000 [==============================]60000/60000 [==============================] - 7s 121us/step - loss: 0.0385 - acc: 0.9886 - val_loss: 0.0801 - val_acc: 0.9823\n",
      "\n",
      "Epoch 8/20\n",
      "60000/60000 [==============================]60000/60000 [==============================] - 7s 121us/step - loss: 0.0357 - acc: 0.9900 - val_loss: 0.0717 - val_acc: 0.9848\n",
      "\n",
      "Epoch 9/20\n",
      "60000/60000 [==============================]60000/60000 [==============================] - 7s 121us/step - loss: 0.0311 - acc: 0.9911 - val_loss: 0.0907 - val_acc: 0.9805\n",
      "\n",
      "Epoch 10/20\n",
      "60000/60000 [==============================]60000/60000 [==============================] - 7s 120us/step - loss: 0.0288 - acc: 0.9913 - val_loss: 0.0901 - val_acc: 0.9817\n",
      "\n",
      "Epoch 11/20\n",
      "60000/60000 [==============================]60000/60000 [==============================] - 7s 120us/step - loss: 0.0265 - acc: 0.9921 - val_loss: 0.0941 - val_acc: 0.9823\n",
      "\n",
      "Epoch 12/20\n",
      "60000/60000 [==============================]60000/60000 [==============================] - 7s 121us/step - loss: 0.0259 - acc: 0.9927 - val_loss: 0.0862 - val_acc: 0.9825\n",
      "\n",
      "Epoch 13/20\n",
      "60000/60000 [==============================]60000/60000 [==============================] - 7s 121us/step - loss: 0.0230 - acc: 0.9937 - val_loss: 0.0936 - val_acc: 0.9827\n",
      "\n",
      "Epoch 14/20\n",
      "60000/60000 [==============================]60000/60000 [==============================] - 7s 121us/step - loss: 0.0218 - acc: 0.9935 - val_loss: 0.1026 - val_acc: 0.9825\n",
      "\n",
      "Epoch 15/20\n",
      "60000/60000 [==============================]60000/60000 [==============================] - 7s 119us/step - loss: 0.0208 - acc: 0.9944 - val_loss: 0.1044 - val_acc: 0.9825\n",
      "\n",
      "Epoch 16/20\n",
      "60000/60000 [==============================]60000/60000 [==============================] - 7s 119us/step - loss: 0.0206 - acc: 0.9946 - val_loss: 0.1071 - val_acc: 0.9829\n",
      "\n",
      "Epoch 17/20\n",
      "60000/60000 [==============================]60000/60000 [==============================] - 7s 119us/step - loss: 0.0197 - acc: 0.9950 - val_loss: 0.1092 - val_acc: 0.9833\n",
      "\n",
      "Epoch 18/20\n",
      "60000/60000 [==============================]60000/60000 [==============================] - 7s 119us/step - loss: 0.0190 - acc: 0.9949 - val_loss: 0.1073 - val_acc: 0.9835\n",
      "\n",
      "Epoch 19/20\n",
      "60000/60000 [==============================]60000/60000 [==============================] - 7s 121us/step - loss: 0.0201 - acc: 0.9951 - val_loss: 0.1100 - val_acc: 0.9837\n",
      "\n",
      "Epoch 20/20\n",
      "60000/60000 [==============================]60000/60000 [==============================] - 7s 120us/step - loss: 0.0184 - acc: 0.9955 - val_loss: 0.1035 - val_acc: 0.9846\n",
      "\n"
     ]
    }
   ],
   "source": [
    "# compile and fit the model\n",
    "model.compile(loss='categorical_crossentropy',\n",
    "              optimizer=RMSprop(),\n",
    "              metrics=['accuracy'])\n",
    "\n",
    "history = model.fit(x_train, y_train,\n",
    "                    batch_size=batch_size,\n",
    "                    epochs=epochs,\n",
    "                    verbose=1,\n",
    "                    validation_data=(x_test, y_test))\n",
    "score = model.evaluate(x_test, y_test, verbose=0)"
   ]
  },
  {
   "cell_type": "code",
   "execution_count": 35,
   "metadata": {},
   "outputs": [
    {
     "name": "stdout",
     "output_type": "stream",
     "text": [
      "Test loss: 0.10354267877732165\n",
      "Test accuracy: 0.9846\n"
     ]
    }
   ],
   "source": [
    "print('Test loss:', score[0])\n",
    "print('Test accuracy:', score[1])"
   ]
  },
  {
   "cell_type": "code",
   "execution_count": 84,
   "metadata": {},
   "outputs": [
    {
     "data": {
      "text/plain": [
       "dict_keys(['val_loss', 'acc', 'loss', 'val_acc'])"
      ]
     },
     "execution_count": 84,
     "metadata": {},
     "output_type": "execute_result"
    }
   ],
   "source": [
    "# store accuracy and loss for plot\n",
    "\n",
    "history.history.keys()\n"
   ]
  },
  {
   "cell_type": "code",
   "execution_count": 83,
   "metadata": {},
   "outputs": [
    {
     "data": {
      "image/png": "[encoded data removed]",
      "text/plain": [
       "<matplotlib.figure.Figure at 0x1e625aa6ba8>"
      ]
     },
     "metadata": {},
     "output_type": "display_data"
    }
   ],
   "source": [
    "# plot accuracy and loss over epoch\n",
    "from matplotlib import pyplot as plt\n",
    "import numpy as np\n",
    "x = np.arange(20)\n",
    "fig, (ax1, ax2) = plt.subplots(1, 2, figsize=(16, 3))\n",
    "\n",
    "#figure 1\n",
    "y1 = history.history['val_loss']\n",
    "y2 = history.history['loss']\n",
    "\n",
    "ax1.set_xlabel('epochs')\n",
    "ax1.set_ylabel('loss')\n",
    "ax1.set_xticks(np.arange(1, 20, 2))\n",
    "\n",
    "ax1.set_title(\"Loss\")\n",
    "ax1.plot(x, y1, 'r')\n",
    "ax1.plot(x, y2, 'b')\n",
    "ax1.legend(('Loss Val', 'Loss Train', 'Total message length'),\n",
    "           loc='upper center', shadow=True)\n",
    "#figure 2\n",
    "y1 = history.history['val_acc']\n",
    "y2 = history.history['acc']\n",
    "\n",
    "ax2.set_xlabel('epochs')\n",
    "ax2.set_ylabel('accuracy')\n",
    "ax2.set_xticks(np.arange(1, 20, 2))\n",
    "\n",
    "ax2.set_title(\"Accuracy\")\n",
    "ax2.plot(x, y1, 'r')\n",
    "ax2.plot(x, y2, 'b')\n",
    "ax2.legend(('Acc Val', 'Acc Train', 'Total message length'),\n",
    "           loc='lower center', shadow=True)\n",
    "\n",
    "plt.show()"
   ]
  }
 ],
 "metadata": {
  "kernelspec": {
   "display_name": "Python 3",
   "language": "python",
   "name": "python3"
  },
  "language_info": {
   "codemirror_mode": {
    "name": "ipython",
    "version": 3
   },
   "file_extension": ".py",
   "mimetype": "text/x-python",
   "name": "python",
   "nbconvert_exporter": "python",
   "pygments_lexer": "ipython3",
   "version": "3.5.3"
  }
 },
 "nbformat": 4,
 "nbformat_minor": 2
}
