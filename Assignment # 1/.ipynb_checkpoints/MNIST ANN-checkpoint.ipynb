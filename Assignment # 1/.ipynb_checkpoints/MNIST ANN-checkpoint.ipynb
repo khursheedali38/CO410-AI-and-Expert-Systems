{
 "cells": [
  {
   "cell_type": "code",
   "execution_count": 31,
   "metadata": {
    "collapsed": true
   },
   "outputs": [],
   "source": [
    "from __future__ import print_function\n",
    "\n",
    "import tensorflow as tf\n",
    "\n",
    "batch_size = 128\n",
    "num_classes = 10\n",
    "epochs = 20\n"
   ]
  },
  {
   "cell_type": "code",
   "execution_count": 32,
   "metadata": {},
   "outputs": [
    {
     "name": "stdout",
     "output_type": "stream",
     "text": [
      "60000 train samples\n",
      "10000 test samples\n"
     ]
    }
   ],
   "source": [
    "#data is randomly split into training and test set\n",
    "(x_train, y_train), (x_test, y_test) = mnist.load_data()\n",
    "\n",
    "#data preprocessing\n",
    "x_train = x_train.reshape(60000, 784)\n",
    "x_test = x_test.reshape(10000, 784)\n",
    "x_train = x_train.astype('float32')\n",
    "x_test = x_test.astype('float32')\n",
    "\n",
    "#normalization\n",
    "x_train /= 255\n",
    "x_test /= 255\n",
    "\n",
    "\n",
    "print(x_train.shape[0], 'train samples')\n",
    "print(x_test.shape[0], 'test samples')"
   ]
  },
  {
   "cell_type": "code",
   "execution_count": 33,
   "metadata": {
    "collapsed": true
   },
   "outputs": [],
   "source": [
    "# convert class vectors to binary class matrices\n",
    "y_train = tf.keras.utils.to_categorical(y_train, num_classes)\n",
    "y_test = tf.keras.utils.to_categorical(y_test, num_classes)\n"
   ]
  },
  {
   "cell_type": "code",
   "execution_count": 34,
   "metadata": {},
   "outputs": [
    {
     "name": "stdout",
     "output_type": "stream",
     "text": [
      "_________________________________________________________________\n",
      "Layer (type)                 Output Shape              Param #   \n",
      "=================================================================\n",
      "dense_31 (Dense)             (None, 512)               401920    \n",
      "_________________________________________________________________\n",
      "dropout_21 (Dropout)         (None, 512)               0         \n",
      "_________________________________________________________________\n",
      "dense_32 (Dense)             (None, 512)               262656    \n",
      "_________________________________________________________________\n",
      "dropout_22 (Dropout)         (None, 512)               0         \n",
      "_________________________________________________________________\n",
      "dense_33 (Dense)             (None, 10)                5130      \n",
      "=================================================================\n",
      "Total params: 669,706\n",
      "Trainable params: 669,706\n",
      "Non-trainable params: 0\n",
      "_________________________________________________________________\n"
     ]
    }
   ],
   "source": [
    "# Select and define the model\n",
    "Sequential = tf.keras.models.Sequential\n",
    "Dense = tf.keras.layers.Dense\n",
    "Dropout = tf.keras.layers.Dropout\n",
    "RMSprop = tf.keras.optimizers.RMSprop\n",
    "\n",
    "model = Sequential()\n",
    "model.add(Dense(512, activation='relu', input_shape=(784,)))\n",
    "model.add(Dropout(0.2))\n",
    "model.add(Dense(512, activation='relu'))\n",
    "model.add(Dropout(0.2))\n",
    "model.add(Dense(num_classes, activation='softmax'))\n",
    "\n",
    "model.summary()\n"
   ]
  },
  {
   "cell_type": "code",
   "execution_count": 35,
   "metadata": {},
   "outputs": [
    {
     "name": "stdout",
     "output_type": "stream",
     "text": [
      "Train on 60000 samples, validate on 10000 samples\n",
      "Epoch 1/30\n",
      "60000/60000 [==============================]60000/60000 [==============================] - 8s 129us/step - loss: 0.2451 - acc: 0.9244 - val_loss: 0.1155 - val_acc: 0.9632\n",
      "\n",
      "Epoch 2/30\n",
      "60000/60000 [==============================]60000/60000 [==============================] - 7s 119us/step - loss: 0.1014 - acc: 0.9690 - val_loss: 0.0857 - val_acc: 0.9748\n",
      "\n",
      "Epoch 3/30\n",
      "60000/60000 [==============================]60000/60000 [==============================] - 7s 120us/step - loss: 0.0755 - acc: 0.9767 - val_loss: 0.0783 - val_acc: 0.9771\n",
      "\n",
      "Epoch 4/30\n",
      "60000/60000 [==============================]60000/60000 [==============================] - 7s 120us/step - loss: 0.0600 - acc: 0.9821 - val_loss: 0.0748 - val_acc: 0.9803\n",
      "\n",
      "Epoch 5/30\n",
      "60000/60000 [==============================]60000/60000 [==============================] - 7s 119us/step - loss: 0.0501 - acc: 0.9844 - val_loss: 0.0665 - val_acc: 0.9827\n",
      "\n",
      "Epoch 6/30\n",
      "60000/60000 [==============================]60000/60000 [==============================] - 7s 120us/step - loss: 0.0435 - acc: 0.9869 - val_loss: 0.0859 - val_acc: 0.9785\n",
      "\n",
      "Epoch 7/30\n",
      "60000/60000 [==============================]60000/60000 [==============================] - 7s 122us/step - loss: 0.0392 - acc: 0.9884 - val_loss: 0.0803 - val_acc: 0.9817\n",
      "\n",
      "Epoch 8/30\n",
      "60000/60000 [==============================]60000/60000 [==============================] - 7s 122us/step - loss: 0.0343 - acc: 0.9896 - val_loss: 0.0865 - val_acc: 0.9827\n",
      "\n",
      "Epoch 9/30\n",
      "60000/60000 [==============================]60000/60000 [==============================] - 7s 122us/step - loss: 0.0340 - acc: 0.9906 - val_loss: 0.0800 - val_acc: 0.9831\n",
      "\n",
      "Epoch 10/30\n",
      "60000/60000 [==============================]60000/60000 [==============================] - 7s 121us/step - loss: 0.0283 - acc: 0.9920 - val_loss: 0.0926 - val_acc: 0.9823\n",
      "\n",
      "Epoch 11/30\n",
      "60000/60000 [==============================]60000/60000 [==============================] - 7s 120us/step - loss: 0.0272 - acc: 0.9923 - val_loss: 0.0931 - val_acc: 0.9825\n",
      "\n",
      "Epoch 12/30\n",
      "60000/60000 [==============================]60000/60000 [==============================] - 7s 121us/step - loss: 0.0236 - acc: 0.9934 - val_loss: 0.1102 - val_acc: 0.9813\n",
      "\n",
      "Epoch 13/30\n",
      "60000/60000 [==============================]60000/60000 [==============================] - 7s 125us/step - loss: 0.0261 - acc: 0.9929 - val_loss: 0.0991 - val_acc: 0.9836\n",
      "\n",
      "Epoch 14/30\n",
      "60000/60000 [==============================]60000/60000 [==============================] - 7s 120us/step - loss: 0.0248 - acc: 0.9931 - val_loss: 0.0976 - val_acc: 0.9813\n",
      "\n",
      "Epoch 15/30\n",
      "60000/60000 [==============================]60000/60000 [==============================] - 7s 120us/step - loss: 0.0218 - acc: 0.9941 - val_loss: 0.1125 - val_acc: 0.9814\n",
      "\n",
      "Epoch 16/30\n",
      "60000/60000 [==============================]60000/60000 [==============================] - 7s 120us/step - loss: 0.0200 - acc: 0.9946 - val_loss: 0.1018 - val_acc: 0.9844\n",
      "\n",
      "Epoch 17/30\n",
      "60000/60000 [==============================]60000/60000 [==============================] - 7s 120us/step - loss: 0.0201 - acc: 0.9945 - val_loss: 0.1074 - val_acc: 0.9829\n",
      "\n",
      "Epoch 18/30\n",
      "60000/60000 [==============================]60000/60000 [==============================] - 7s 119us/step - loss: 0.0216 - acc: 0.9950 - val_loss: 0.1039 - val_acc: 0.9839\n",
      "\n",
      "Epoch 19/30\n",
      "60000/60000 [==============================]60000/60000 [==============================] - 7s 119us/step - loss: 0.0200 - acc: 0.9948 - val_loss: 0.1148 - val_acc: 0.9813\n",
      "\n",
      "Epoch 20/30\n",
      "60000/60000 [==============================]60000/60000 [==============================] - 7s 120us/step - loss: 0.0206 - acc: 0.9949 - val_loss: 0.1151 - val_acc: 0.9834\n",
      "\n",
      "Epoch 21/30\n",
      "60000/60000 [==============================]60000/60000 [==============================] - 7s 120us/step - loss: 0.0187 - acc: 0.9956 - val_loss: 0.1149 - val_acc: 0.9840\n",
      "\n",
      "Epoch 22/30\n",
      "60000/60000 [==============================]60000/60000 [==============================] - 7s 120us/step - loss: 0.0187 - acc: 0.9955 - val_loss: 0.1187 - val_acc: 0.9831\n",
      "\n",
      "Epoch 23/30\n",
      "60000/60000 [==============================]60000/60000 [==============================] - 7s 120us/step - loss: 0.0183 - acc: 0.9955 - val_loss: 0.1144 - val_acc: 0.9840\n",
      "\n",
      "Epoch 24/30\n",
      "60000/60000 [==============================]60000/60000 [==============================] - 7s 120us/step - loss: 0.0170 - acc: 0.9961 - val_loss: 0.1216 - val_acc: 0.9825\n",
      "\n",
      "Epoch 25/30\n",
      "60000/60000 [==============================]60000/60000 [==============================] - 7s 120us/step - loss: 0.0153 - acc: 0.9963 - val_loss: 0.1178 - val_acc: 0.9829\n",
      "\n",
      "Epoch 26/30\n",
      "60000/60000 [==============================]60000/60000 [==============================] - 7s 121us/step - loss: 0.0194 - acc: 0.9958 - val_loss: 0.1193 - val_acc: 0.9846\n",
      "\n",
      "Epoch 27/30\n",
      "60000/60000 [==============================]60000/60000 [==============================] - 7s 120us/step - loss: 0.0151 - acc: 0.9965 - val_loss: 0.1113 - val_acc: 0.9856\n",
      "\n",
      "Epoch 28/30\n",
      "60000/60000 [==============================]60000/60000 [==============================] - 7s 120us/step - loss: 0.0160 - acc: 0.9961 - val_loss: 0.1192 - val_acc: 0.9839\n",
      "\n",
      "Epoch 29/30\n",
      "60000/60000 [==============================]60000/60000 [==============================] - 7s 120us/step - loss: 0.0158 - acc: 0.9964 - val_loss: 0.1396 - val_acc: 0.9835\n",
      "\n",
      "Epoch 30/30\n",
      "60000/60000 [==============================]60000/60000 [==============================] - 7s 119us/step - loss: 0.0152 - acc: 0.9964 - val_loss: 0.1283 - val_acc: 0.9842\n",
      "\n"
     ]
    }
   ],
   "source": [
    "# compile anf fit the model\n",
    "model.compile(loss='categorical_crossentropy',\n",
    "              optimizer=RMSprop(),\n",
    "              metrics=['accuracy'])\n",
    "\n",
    "history = model.fit(x_train, y_train,\n",
    "                    batch_size=batch_size,\n",
    "                    epochs=epochs,\n",
    "                    verbose=1,\n",
    "                    validation_data=(x_test, y_test))\n",
    "score = model.evaluate(x_test, y_test, verbose=0)"
   ]
  },
  {
   "cell_type": "code",
   "execution_count": 36,
   "metadata": {
    "collapsed": true
   },
   "outputs": [],
   "source": [
    "print('Test loss:', score[0])\n",
    "print('Test accuracy:', score[1])"
   ]
  },
  {
   "cell_type": "code",
   "execution_count": 38,
   "metadata": {},
   "outputs": [
    {
     "name": "stdout",
     "output_type": "stream",
     "text": [
      "Test loss: 0.12829604503499087\n",
      "Test accuracy: 0.9842\n"
     ]
    }
   ],
   "source": [
    "from laplotter import LossAccPlotter\n",
    "import numpy as np\n",
    "\n",
    "plotter = LossAccPlotter()\n",
    "\n",
    "# generate some example values for the loss training line\n",
    "example_values = np.linspace(0.8, 0.1, num=100)\n",
    "\n",
    "# add them all\n",
    "for epoch, value in enumerate(example_values):\n",
    "    # deactivate redrawing after each update\n",
    "    plotter.add_values(epoch, loss_train=value, redraw=False)\n",
    "\n",
    "# redraw once at the end\n",
    "plotter.redraw()\n",
    "\n",
    "plotter.block()"
   ]
  }
 ],
 "metadata": {
  "kernelspec": {
   "display_name": "Python 3",
   "language": "python",
   "name": "python3"
  },
  "language_info": {
   "codemirror_mode": {
    "name": "ipython",
    "version": 3
   },
   "file_extension": ".py",
   "mimetype": "text/x-python",
   "name": "python",
   "nbconvert_exporter": "python",
   "pygments_lexer": "ipython3",
   "version": "3.5.3"
  }
 },
 "nbformat": 4,
 "nbformat_minor": 2
}
